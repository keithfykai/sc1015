{
 "cells": [
  {
   "cell_type": "code",
   "execution_count": 3,
   "id": "80435f8b",
   "metadata": {},
   "outputs": [
    {
     "data": {
      "text/plain": [
       "<bound method NDFrame.head of         0           1         2            3        4       5      6   \\\n",
       "0       Id  MSSubClass  MSZoning  LotFrontage  LotArea  Street  Alley   \n",
       "1        1          60        RL           65     8450    Pave    NaN   \n",
       "2        2          20        RL           80     9600    Pave    NaN   \n",
       "3        3          60        RL           68    11250    Pave    NaN   \n",
       "4        4          70        RL           60     9550    Pave    NaN   \n",
       "...    ...         ...       ...          ...      ...     ...    ...   \n",
       "1456  1456          60        RL           62     7917    Pave    NaN   \n",
       "1457  1457          20        RL           85    13175    Pave    NaN   \n",
       "1458  1458          70        RL           66     9042    Pave    NaN   \n",
       "1459  1459          20        RL           68     9717    Pave    NaN   \n",
       "1460  1460          20        RL           75     9937    Pave    NaN   \n",
       "\n",
       "            7            8          9   ...        71      72     73  \\\n",
       "0     LotShape  LandContour  Utilities  ...  PoolArea  PoolQC  Fence   \n",
       "1          Reg          Lvl     AllPub  ...         0     NaN    NaN   \n",
       "2          Reg          Lvl     AllPub  ...         0     NaN    NaN   \n",
       "3          IR1          Lvl     AllPub  ...         0     NaN    NaN   \n",
       "4          IR1          Lvl     AllPub  ...         0     NaN    NaN   \n",
       "...        ...          ...        ...  ...       ...     ...    ...   \n",
       "1456       Reg          Lvl     AllPub  ...         0     NaN    NaN   \n",
       "1457       Reg          Lvl     AllPub  ...         0     NaN  MnPrv   \n",
       "1458       Reg          Lvl     AllPub  ...         0     NaN  GdPrv   \n",
       "1459       Reg          Lvl     AllPub  ...         0     NaN    NaN   \n",
       "1460       Reg          Lvl     AllPub  ...         0     NaN    NaN   \n",
       "\n",
       "               74       75      76      77        78             79         80  \n",
       "0     MiscFeature  MiscVal  MoSold  YrSold  SaleType  SaleCondition  SalePrice  \n",
       "1             NaN        0       2    2008        WD         Normal     208500  \n",
       "2             NaN        0       5    2007        WD         Normal     181500  \n",
       "3             NaN        0       9    2008        WD         Normal     223500  \n",
       "4             NaN        0       2    2006        WD        Abnorml     140000  \n",
       "...           ...      ...     ...     ...       ...            ...        ...  \n",
       "1456          NaN        0       8    2007        WD         Normal     175000  \n",
       "1457          NaN        0       2    2010        WD         Normal     210000  \n",
       "1458         Shed     2500       5    2010        WD         Normal     266500  \n",
       "1459          NaN        0       4    2010        WD         Normal     142125  \n",
       "1460          NaN        0       6    2008        WD         Normal     147500  \n",
       "\n",
       "[1461 rows x 81 columns]>"
      ]
     },
     "execution_count": 3,
     "metadata": {},
     "output_type": "execute_result"
    }
   ],
   "source": [
    "import numpy as np\n",
    "import pandas as pd\n",
    "\n",
    "house_data = pd.read_csv('./train.csv', header = None)\n",
    "house_data.head"
   ]
  },
  {
   "cell_type": "code",
   "execution_count": 5,
   "id": "5d7ed855",
   "metadata": {},
   "outputs": [
    {
     "name": "stdout",
     "output_type": "stream",
     "text": [
      "Data Type :  <class 'pandas.core.frame.DataFrame'>\n",
      "Data Dims :  (1461, 81)\n"
     ]
    }
   ],
   "source": [
    "print(\"Data Type : \", type(house_data)) #finding out what datatype the specified file is.\n",
    "print(\"Data Dims : \", house_data.shape) #finding out the shape/dimensions of the datatype specified."
   ]
  },
  {
   "cell_type": "markdown",
   "id": "2ed9dd63",
   "metadata": {},
   "source": [
    "1b) The above returned results show that the csv contains 1461 rows, 1460 excluding the header while containing 81 columns, 80 excluding the index row."
   ]
  },
  {
   "cell_type": "code",
   "execution_count": 6,
   "id": "c78a9ab1",
   "metadata": {},
   "outputs": [
    {
     "data": {
      "text/plain": [
       "<bound method DataFrame.info of         0           1         2            3        4       5      6   \\\n",
       "0       Id  MSSubClass  MSZoning  LotFrontage  LotArea  Street  Alley   \n",
       "1        1          60        RL           65     8450    Pave    NaN   \n",
       "2        2          20        RL           80     9600    Pave    NaN   \n",
       "3        3          60        RL           68    11250    Pave    NaN   \n",
       "4        4          70        RL           60     9550    Pave    NaN   \n",
       "...    ...         ...       ...          ...      ...     ...    ...   \n",
       "1456  1456          60        RL           62     7917    Pave    NaN   \n",
       "1457  1457          20        RL           85    13175    Pave    NaN   \n",
       "1458  1458          70        RL           66     9042    Pave    NaN   \n",
       "1459  1459          20        RL           68     9717    Pave    NaN   \n",
       "1460  1460          20        RL           75     9937    Pave    NaN   \n",
       "\n",
       "            7            8          9   ...        71      72     73  \\\n",
       "0     LotShape  LandContour  Utilities  ...  PoolArea  PoolQC  Fence   \n",
       "1          Reg          Lvl     AllPub  ...         0     NaN    NaN   \n",
       "2          Reg          Lvl     AllPub  ...         0     NaN    NaN   \n",
       "3          IR1          Lvl     AllPub  ...         0     NaN    NaN   \n",
       "4          IR1          Lvl     AllPub  ...         0     NaN    NaN   \n",
       "...        ...          ...        ...  ...       ...     ...    ...   \n",
       "1456       Reg          Lvl     AllPub  ...         0     NaN    NaN   \n",
       "1457       Reg          Lvl     AllPub  ...         0     NaN  MnPrv   \n",
       "1458       Reg          Lvl     AllPub  ...         0     NaN  GdPrv   \n",
       "1459       Reg          Lvl     AllPub  ...         0     NaN    NaN   \n",
       "1460       Reg          Lvl     AllPub  ...         0     NaN    NaN   \n",
       "\n",
       "               74       75      76      77        78             79         80  \n",
       "0     MiscFeature  MiscVal  MoSold  YrSold  SaleType  SaleCondition  SalePrice  \n",
       "1             NaN        0       2    2008        WD         Normal     208500  \n",
       "2             NaN        0       5    2007        WD         Normal     181500  \n",
       "3             NaN        0       9    2008        WD         Normal     223500  \n",
       "4             NaN        0       2    2006        WD        Abnorml     140000  \n",
       "...           ...      ...     ...     ...       ...            ...        ...  \n",
       "1456          NaN        0       8    2007        WD         Normal     175000  \n",
       "1457          NaN        0       2    2010        WD         Normal     210000  \n",
       "1458         Shed     2500       5    2010        WD         Normal     266500  \n",
       "1459          NaN        0       4    2010        WD         Normal     142125  \n",
       "1460          NaN        0       6    2008        WD         Normal     147500  \n",
       "\n",
       "[1461 rows x 81 columns]>"
      ]
     },
     "execution_count": 6,
     "metadata": {},
     "output_type": "execute_result"
    }
   ],
   "source": [
    "house_data.info"
   ]
  },
  {
   "cell_type": "code",
   "execution_count": 7,
   "id": "21fab9af",
   "metadata": {},
   "outputs": [
    {
     "data": {
      "text/plain": [
       "<bound method NDFrame.describe of         0           1         2            3        4       5      6   \\\n",
       "0       Id  MSSubClass  MSZoning  LotFrontage  LotArea  Street  Alley   \n",
       "1        1          60        RL           65     8450    Pave    NaN   \n",
       "2        2          20        RL           80     9600    Pave    NaN   \n",
       "3        3          60        RL           68    11250    Pave    NaN   \n",
       "4        4          70        RL           60     9550    Pave    NaN   \n",
       "...    ...         ...       ...          ...      ...     ...    ...   \n",
       "1456  1456          60        RL           62     7917    Pave    NaN   \n",
       "1457  1457          20        RL           85    13175    Pave    NaN   \n",
       "1458  1458          70        RL           66     9042    Pave    NaN   \n",
       "1459  1459          20        RL           68     9717    Pave    NaN   \n",
       "1460  1460          20        RL           75     9937    Pave    NaN   \n",
       "\n",
       "            7            8          9   ...        71      72     73  \\\n",
       "0     LotShape  LandContour  Utilities  ...  PoolArea  PoolQC  Fence   \n",
       "1          Reg          Lvl     AllPub  ...         0     NaN    NaN   \n",
       "2          Reg          Lvl     AllPub  ...         0     NaN    NaN   \n",
       "3          IR1          Lvl     AllPub  ...         0     NaN    NaN   \n",
       "4          IR1          Lvl     AllPub  ...         0     NaN    NaN   \n",
       "...        ...          ...        ...  ...       ...     ...    ...   \n",
       "1456       Reg          Lvl     AllPub  ...         0     NaN    NaN   \n",
       "1457       Reg          Lvl     AllPub  ...         0     NaN  MnPrv   \n",
       "1458       Reg          Lvl     AllPub  ...         0     NaN  GdPrv   \n",
       "1459       Reg          Lvl     AllPub  ...         0     NaN    NaN   \n",
       "1460       Reg          Lvl     AllPub  ...         0     NaN    NaN   \n",
       "\n",
       "               74       75      76      77        78             79         80  \n",
       "0     MiscFeature  MiscVal  MoSold  YrSold  SaleType  SaleCondition  SalePrice  \n",
       "1             NaN        0       2    2008        WD         Normal     208500  \n",
       "2             NaN        0       5    2007        WD         Normal     181500  \n",
       "3             NaN        0       9    2008        WD         Normal     223500  \n",
       "4             NaN        0       2    2006        WD        Abnorml     140000  \n",
       "...           ...      ...     ...     ...       ...            ...        ...  \n",
       "1456          NaN        0       8    2007        WD         Normal     175000  \n",
       "1457          NaN        0       2    2010        WD         Normal     210000  \n",
       "1458         Shed     2500       5    2010        WD         Normal     266500  \n",
       "1459          NaN        0       4    2010        WD         Normal     142125  \n",
       "1460          NaN        0       6    2008        WD         Normal     147500  \n",
       "\n",
       "[1461 rows x 81 columns]>"
      ]
     },
     "execution_count": 7,
     "metadata": {},
     "output_type": "execute_result"
    }
   ],
   "source": [
    "house_data.describe"
   ]
  },
  {
   "cell_type": "code",
   "execution_count": 9,
   "id": "0d65fc2c",
   "metadata": {},
   "outputs": [
    {
     "data": {
      "text/plain": [
       "[                         2016 Summer Olympics medals  \\\n",
       " 0                                           Location   \n",
       " 1                                         Highlights   \n",
       " 2                                   Most gold medals   \n",
       " 3                                  Most total medals   \n",
       " 4  .mw-parser-output .hlist dl,.mw-parser-output ...   \n",
       " \n",
       "                        2016 Summer Olympics medals.1  \n",
       " 0                             Rio de Janeiro, Brazil  \n",
       " 1                                         Highlights  \n",
       " 2                                 United States (46)  \n",
       " 3                                United States (121)  \n",
       " 4  .mw-parser-output .hlist dl,.mw-parser-output ...  ,\n",
       "                                                    0\n",
       " 0                                Part of a series on\n",
       " 1                               2016 Summer Olympics\n",
       " 2  Bid process (bid details) Development (venues,...\n",
       " 3  .mw-parser-output .navbar{display:inline;font-...,\n",
       "                    Rank                   NOC  Gold  Silver  Bronze  Total\n",
       " 0                     1         United States    46      37      38    121\n",
       " 1                     2         Great Britain    27      23      17     67\n",
       " 2                     3                 China    26      18      26     70\n",
       " 3                     4                Russia    19      17      20     56\n",
       " 4                     5               Germany    17      10      15     42\n",
       " ..                  ...                   ...   ...     ...     ...    ...\n",
       " 82                   78               Nigeria     0       0       1      1\n",
       " 83                   78              Portugal     0       0       1      1\n",
       " 84                   78   Trinidad and Tobago     0       0       1      1\n",
       " 85                   78  United Arab Emirates     0       0       1      1\n",
       " 86  Totals (86 entries)   Totals (86 entries)   306     307     359    972\n",
       " \n",
       " [87 rows x 6 columns],\n",
       "                                           Ruling date  \\\n",
       " 0   List of official changes in medal standings (d...   \n",
       " 1                                      18 August 2016   \n",
       " 2                                      18 August 2016   \n",
       " 3   List of official changes in medal standings (a...   \n",
       " 4                                     8 December 2016   \n",
       " 5                                     8 December 2016   \n",
       " 6                                     8 December 2016   \n",
       " 7                                     8 December 2016   \n",
       " 8                                     30 January 2017   \n",
       " 9                                     30 January 2017   \n",
       " 10                                      22 March 2022   \n",
       " 11                                      22 March 2022   \n",
       " 12                                      22 March 2022   \n",
       " 13                                      22 March 2022   \n",
       " \n",
       "                                           Sport/Event  \\\n",
       " 0   List of official changes in medal standings (d...   \n",
       " 1                            WeightliftingMen's 69 kg   \n",
       " 2                            WeightliftingMen's 69 kg   \n",
       " 3   List of official changes in medal standings (a...   \n",
       " 4                            WeightliftingMen's 85 kg   \n",
       " 5                            WeightliftingMen's 85 kg   \n",
       " 6                               BoxingMen's flyweight   \n",
       " 7                               BoxingMen's flyweight   \n",
       " 8                       CanoeingMen's C-1 1000 metres   \n",
       " 9                       CanoeingMen's C-1 1000 metres   \n",
       " 10                           WeightliftingMen's 77 kg   \n",
       " 11                           WeightliftingMen's 77 kg   \n",
       " 12                           WeightliftingMen's 77 kg   \n",
       " 13                           WeightliftingMen's 77 kg   \n",
       " \n",
       "                                         Athlete (NOC)  \\\n",
       " 0   List of official changes in medal standings (d...   \n",
       " 1                             Izzat Artykov (KGZ) DSQ   \n",
       " 2                          Luis Javier Mosquera (COL)   \n",
       " 3   List of official changes in medal standings (a...   \n",
       " 4                         Gabriel Sîncrăian (ROM) DSQ   \n",
       " 5                                  Denis Ulanov (KAZ)   \n",
       " 6                              Misha Aloyan (RUS) DSQ   \n",
       " 7                                    Yoel Finol (VEN)   \n",
       " 8                        Serghei Tarnovschi (MDA) DSQ   \n",
       " 9                                Ilia Shtokalov (RUS)   \n",
       " 10                            Nijat Rahimov (KAZ) DSQ   \n",
       " 11                                   Lü Xiaojun (CHN)   \n",
       " 12                                 Mohamed Ehab (EGY)   \n",
       " 13                         Chatuphum Chinnawong (THA)   \n",
       " \n",
       "                                            Unnamed: 3  \\\n",
       " 0   List of official changes in medal standings (d...   \n",
       " 1                                                 NaN   \n",
       " 2                                                 NaN   \n",
       " 3   List of official changes in medal standings (a...   \n",
       " 4                                                 NaN   \n",
       " 5                                                 NaN   \n",
       " 6                                                 NaN   \n",
       " 7                                                 NaN   \n",
       " 8                                                 NaN   \n",
       " 9                                                 NaN   \n",
       " 10                                                 −1   \n",
       " 11                                                 +1   \n",
       " 12                                                NaN   \n",
       " 13                                                NaN   \n",
       " \n",
       "                                            Unnamed: 4  \\\n",
       " 0   List of official changes in medal standings (d...   \n",
       " 1                                                 NaN   \n",
       " 2                                                 NaN   \n",
       " 3   List of official changes in medal standings (a...   \n",
       " 4                                                 NaN   \n",
       " 5                                                 NaN   \n",
       " 6                                                  −1   \n",
       " 7                                                  +1   \n",
       " 8                                                 NaN   \n",
       " 9                                                 NaN   \n",
       " 10                                                NaN   \n",
       " 11                                                 −1   \n",
       " 12                                                 +1   \n",
       " 13                                                NaN   \n",
       " \n",
       "                                            Unnamed: 5  \\\n",
       " 0   List of official changes in medal standings (d...   \n",
       " 1                                                  −1   \n",
       " 2                                                  +1   \n",
       " 3   List of official changes in medal standings (a...   \n",
       " 4                                                  −1   \n",
       " 5                                                  +1   \n",
       " 6                                                 NaN   \n",
       " 7                                                  −1   \n",
       " 8                                                  −1   \n",
       " 9                                                  +1   \n",
       " 10                                                NaN   \n",
       " 11                                                NaN   \n",
       " 12                                                 −1   \n",
       " 13                                                 +1   \n",
       " \n",
       "                                                 Total  \\\n",
       " 0   List of official changes in medal standings (d...   \n",
       " 1                                                  −1   \n",
       " 2                                                  +1   \n",
       " 3   List of official changes in medal standings (a...   \n",
       " 4                                                  −1   \n",
       " 5                                                  +1   \n",
       " 6                                                  −1   \n",
       " 7                                                   0   \n",
       " 8                                                  −1   \n",
       " 9                                                  +1   \n",
       " 10                                                 −1   \n",
       " 11                                                  0   \n",
       " 12                                                  0   \n",
       " 13                                                 +1   \n",
       " \n",
       "                                               Comment  \\\n",
       " 0   List of official changes in medal standings (d...   \n",
       " 1   On 18 August 2016, Kyrgyz weightlifter Izzat A...   \n",
       " 2   On 18 August 2016, Kyrgyz weightlifter Izzat A...   \n",
       " 3   List of official changes in medal standings (a...   \n",
       " 4   On 8 December 2016, the CAS disqualified weigh...   \n",
       " 5   On 8 December 2016, the CAS disqualified weigh...   \n",
       " 6   On 8 December 2016, the CAS disqualified weigh...   \n",
       " 7   On 8 December 2016, the CAS disqualified weigh...   \n",
       " 8   Serghei Tarnovschi of Moldova was stripped of ...   \n",
       " 9   Serghei Tarnovschi of Moldova was stripped of ...   \n",
       " 10  Nijat Rahimov of Kazakhstan was stripped of hi...   \n",
       " 11  Nijat Rahimov of Kazakhstan was stripped of hi...   \n",
       " 12  Nijat Rahimov of Kazakhstan was stripped of hi...   \n",
       " 13  Nijat Rahimov of Kazakhstan was stripped of hi...   \n",
       " \n",
       "                                            Unnamed: 8  \n",
       " 0   List of official changes in medal standings (d...  \n",
       " 1                                                 NaN  \n",
       " 2                                                 NaN  \n",
       " 3   List of official changes in medal standings (a...  \n",
       " 4                                                 NaN  \n",
       " 5                                                 NaN  \n",
       " 6                                                 NaN  \n",
       " 7                                                 NaN  \n",
       " 8                                                 NaN  \n",
       " 9                                                 NaN  \n",
       " 10                                                NaN  \n",
       " 11                                                NaN  \n",
       " 12                                                NaN  \n",
       " 13                                                NaN  ,\n",
       "                       vte Olympic Games medal tables  \\\n",
       " 0  Olympic medal All-time Olympic Games medal tab...   \n",
       " 1                               Summer Olympic Games   \n",
       " 2                               Winter Olympic Games   \n",
       " 3  Lists of Olympic medalists List of stripped Ol...   \n",
       " \n",
       "                     vte Olympic Games medal tables.1  \n",
       " 0  Olympic medal All-time Olympic Games medal tab...  \n",
       " 1  1896 1900 1904 1908 1912 1920 1924 1928 1932 1...  \n",
       " 2  1924 1928 1932 1936 1948 1952 1956 1960 1964 1...  \n",
       " 3  Lists of Olympic medalists List of stripped Ol...  ,\n",
       "   vte Events at the 2016 Summer Olympics (Rio de Janeiro)  \\\n",
       " 0  Archery Athletics Badminton Basketball Boxing ...        \n",
       " 1  Chronological summary Medal table List of meda...        \n",
       " \n",
       "   vte Events at the 2016 Summer Olympics (Rio de Janeiro).1  \n",
       " 0  Archery Athletics Badminton Basketball Boxing ...         \n",
       " 1  Chronological summary Medal table List of meda...         ,\n",
       "      vte Summer Olympics medal table leaders by year  \\\n",
       " 0  1896: United States 1900: France 1904: United ...   \n",
       " \n",
       "    vte Summer Olympics medal table leaders by year.1  \n",
       " 0  1896: United States 1900: France 1904: United ...  ]"
      ]
     },
     "execution_count": 9,
     "metadata": {},
     "output_type": "execute_result"
    }
   ],
   "source": [
    "summeroly2016data = pd.read_html('https://en.wikipedia.org/wiki/2016_Summer_Olympics_medal_table')\n",
    "summeroly2016data"
   ]
  },
  {
   "cell_type": "code",
   "execution_count": 10,
   "id": "bbc77415",
   "metadata": {},
   "outputs": [
    {
     "data": {
      "text/plain": [
       "7"
      ]
     },
     "execution_count": 10,
     "metadata": {},
     "output_type": "execute_result"
    }
   ],
   "source": [
    "len(summeroly2016data)"
   ]
  },
  {
   "cell_type": "markdown",
   "id": "3c88f42e",
   "metadata": {},
   "source": [
    "Therefore there are 7 tables in the imported html file. As len() returns the number of tables in the html file."
   ]
  },
  {
   "cell_type": "code",
   "execution_count": 12,
   "id": "2deead98",
   "metadata": {},
   "outputs": [
    {
     "name": "stdout",
     "output_type": "stream",
     "text": [
      "Data Type :  <class 'list'>\n"
     ]
    }
   ],
   "source": [
    "print(\"Data Type : \", type(summeroly2016data))"
   ]
  },
  {
   "cell_type": "code",
   "execution_count": 2,
   "id": "ade3e42d",
   "metadata": {},
   "outputs": [
    {
     "ename": "NameError",
     "evalue": "name 'pd' is not defined",
     "output_type": "error",
     "traceback": [
      "\u001b[0;31m---------------------------------------------------------------------------\u001b[0m",
      "\u001b[0;31mNameError\u001b[0m                                 Traceback (most recent call last)",
      "\u001b[0;32m/var/folders/_b/qb84fxbs3xx18w729vvjyy_00000gn/T/ipykernel_34361/683352444.py\u001b[0m in \u001b[0;36m<module>\u001b[0;34m\u001b[0m\n\u001b[0;32m----> 1\u001b[0;31m \u001b[0mmedaltbl\u001b[0m \u001b[0;34m=\u001b[0m \u001b[0mpd\u001b[0m\u001b[0;34m.\u001b[0m\u001b[0mDataFrame\u001b[0m\u001b[0;34m(\u001b[0m\u001b[0msummeroly2016data\u001b[0m\u001b[0;34m[\u001b[0m\u001b[0;36m2\u001b[0m\u001b[0;34m]\u001b[0m\u001b[0;34m)\u001b[0m\u001b[0;34m\u001b[0m\u001b[0;34m\u001b[0m\u001b[0m\n\u001b[0m\u001b[1;32m      2\u001b[0m \u001b[0mprint\u001b[0m\u001b[0;34m(\u001b[0m\u001b[0mmedaltbl\u001b[0m\u001b[0;34m)\u001b[0m\u001b[0;34m\u001b[0m\u001b[0;34m\u001b[0m\u001b[0m\n",
      "\u001b[0;31mNameError\u001b[0m: name 'pd' is not defined"
     ]
    }
   ],
   "source": [
    "medaltbl = pd.DataFrame(summeroly2016data[2])\n",
    "print(medaltbl)"
   ]
  },
  {
   "cell_type": "markdown",
   "id": "c5788d49",
   "metadata": {},
   "source": [
    "The pd.DataFrame function helps to make a table of the given data, you can specify which tables you want out of many\n",
    "by using the indexing [] and the index of the table."
   ]
  },
  {
   "cell_type": "code",
   "execution_count": 19,
   "id": "4fff364e",
   "metadata": {},
   "outputs": [
    {
     "name": "stdout",
     "output_type": "stream",
     "text": [
      "   Rank            NOC  Gold  Silver  Bronze  Total\n",
      "0     1  United States    46      37      38    121\n",
      "1     2  Great Britain    27      23      17     67\n",
      "2     3          China    26      18      26     70\n",
      "3     4         Russia    19      17      20     56\n",
      "4     5        Germany    17      10      15     42\n",
      "5     6          Japan    12       8      21     41\n",
      "6     7         France    10      18      14     42\n",
      "7     8    South Korea     9       3       9     21\n",
      "8     9          Italy     8      12       8     28\n",
      "9    10      Australia     8      11      10     29\n",
      "10   11    Netherlands     8       7       4     19\n",
      "11   12        Hungary     8       3       4     15\n",
      "12   13        Brazil*     7       6       6     19\n",
      "13   14          Spain     7       4       6     17\n",
      "14   15          Kenya     6       6       1     13\n",
      "15   16        Jamaica     6       3       2     11\n",
      "16   17        Croatia     5       3       2     10\n",
      "17   18           Cuba     5       2       4     11\n",
      "18   19    New Zealand     4       9       5     18\n",
      "19   20         Canada     4       3      15     22\n"
     ]
    }
   ],
   "source": [
    "top20 = medaltbl[0:20]\n",
    "print(top20)"
   ]
  },
  {
   "cell_type": "code",
   "execution_count": 20,
   "id": "f5d01932",
   "metadata": {},
   "outputs": [
    {
     "name": "stdout",
     "output_type": "stream",
     "text": [
      "Data type :  <class 'pandas.core.frame.DataFrame'>\n"
     ]
    }
   ],
   "source": [
    "print(\"Data type : \", type(top20)) #top20 is a DataFrame type."
   ]
  }
 ],
 "metadata": {
  "kernelspec": {
   "display_name": "Python 3 (ipykernel)",
   "language": "python",
   "name": "python3"
  },
  "language_info": {
   "codemirror_mode": {
    "name": "ipython",
    "version": 3
   },
   "file_extension": ".py",
   "mimetype": "text/x-python",
   "name": "python",
   "nbconvert_exporter": "python",
   "pygments_lexer": "ipython3",
   "version": "3.9.13"
  }
 },
 "nbformat": 4,
 "nbformat_minor": 5
}
