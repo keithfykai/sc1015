{
 "cells": [
  {
   "cell_type": "markdown",
   "id": "f7be8991",
   "metadata": {},
   "source": [
    "<img src=\"https://dollarsandsense.sg/wp-content/uploads/2020/09/nguyen-thu-hoai-a15b7LYrfbk-unsplash.jpg\" alt=\"Alternative text\" />"
   ]
  },
  {
   "cell_type": "markdown",
   "id": "a1a9ecef",
   "metadata": {},
   "source": [
    "# Lab 5 Objective\n",
    "\n",
    "Note that our Housing Data has a Binary (two-level) Categorical Variable named “CentralAir”, with values “Y” and “N”. In the previous sessions, we have seen some numeric variables in this dataset that are important to predict “SalePrice”. In this lab session, we will try to predict if a house has Central Air Conditioning or not using some other variables.\n",
    "\n",
    "Typical steps to follow while building a supervised machine learning model on a given dataset:\n",
    "\n",
    "o Partition the labeled dataset into two random portions – 80% to Train the model and 20% to Test the model.\n",
    "\n",
    "o Fit the desired supervised machine learning model on the Train set to predict response using the predictors.\n",
    "\n",
    "o Predict response using the predictors on the Test set using the machine learning model fit on the Train data.\n",
    "\n",
    "o Check the Prediction Accuracy of the model on both the Train and the Test sets using the “Confusion Matrix”.\n",
    "\n",
    "### Marks distribution:\n",
    "\n",
    "4 points for Problem 1 2 points for train-test set and classification in (a) + 2 points for metrics in (b)\n",
    "\n",
    "3 points for Problem 2 2 points for the two classifications + 1 point for comparison and justifications\n",
    "\n",
    "3 points for Problem 3 2 points for printing samples in the leaf in (a) + 1 point for isolating FPs in (b)\n",
    "\n",
    "### Importing the Essential Libraries and Data (New: DecisionTreeClassifier, plot_tree, confusion_matrix)"
   ]
  },
  {
   "cell_type": "code",
   "execution_count": 112,
   "id": "e967446f",
   "metadata": {
    "scrolled": false
   },
   "outputs": [
    {
     "name": "stdout",
     "output_type": "stream",
     "text": [
      "<class 'pandas.core.frame.DataFrame'>\n",
      "(1460, 81)\n"
     ]
    },
    {
     "data": {
      "text/html": [
       "<div>\n",
       "<style scoped>\n",
       "    .dataframe tbody tr th:only-of-type {\n",
       "        vertical-align: middle;\n",
       "    }\n",
       "\n",
       "    .dataframe tbody tr th {\n",
       "        vertical-align: top;\n",
       "    }\n",
       "\n",
       "    .dataframe thead th {\n",
       "        text-align: right;\n",
       "    }\n",
       "</style>\n",
       "<table border=\"1\" class=\"dataframe\">\n",
       "  <thead>\n",
       "    <tr style=\"text-align: right;\">\n",
       "      <th></th>\n",
       "      <th>Id</th>\n",
       "      <th>MSSubClass</th>\n",
       "      <th>MSZoning</th>\n",
       "      <th>LotFrontage</th>\n",
       "      <th>LotArea</th>\n",
       "      <th>Street</th>\n",
       "      <th>Alley</th>\n",
       "      <th>LotShape</th>\n",
       "      <th>LandContour</th>\n",
       "      <th>Utilities</th>\n",
       "      <th>...</th>\n",
       "      <th>PoolArea</th>\n",
       "      <th>PoolQC</th>\n",
       "      <th>Fence</th>\n",
       "      <th>MiscFeature</th>\n",
       "      <th>MiscVal</th>\n",
       "      <th>MoSold</th>\n",
       "      <th>YrSold</th>\n",
       "      <th>SaleType</th>\n",
       "      <th>SaleCondition</th>\n",
       "      <th>SalePrice</th>\n",
       "    </tr>\n",
       "  </thead>\n",
       "  <tbody>\n",
       "    <tr>\n",
       "      <th>0</th>\n",
       "      <td>1</td>\n",
       "      <td>60</td>\n",
       "      <td>RL</td>\n",
       "      <td>65.0</td>\n",
       "      <td>8450</td>\n",
       "      <td>Pave</td>\n",
       "      <td>NaN</td>\n",
       "      <td>Reg</td>\n",
       "      <td>Lvl</td>\n",
       "      <td>AllPub</td>\n",
       "      <td>...</td>\n",
       "      <td>0</td>\n",
       "      <td>NaN</td>\n",
       "      <td>NaN</td>\n",
       "      <td>NaN</td>\n",
       "      <td>0</td>\n",
       "      <td>2</td>\n",
       "      <td>2008</td>\n",
       "      <td>WD</td>\n",
       "      <td>Normal</td>\n",
       "      <td>208500</td>\n",
       "    </tr>\n",
       "    <tr>\n",
       "      <th>1</th>\n",
       "      <td>2</td>\n",
       "      <td>20</td>\n",
       "      <td>RL</td>\n",
       "      <td>80.0</td>\n",
       "      <td>9600</td>\n",
       "      <td>Pave</td>\n",
       "      <td>NaN</td>\n",
       "      <td>Reg</td>\n",
       "      <td>Lvl</td>\n",
       "      <td>AllPub</td>\n",
       "      <td>...</td>\n",
       "      <td>0</td>\n",
       "      <td>NaN</td>\n",
       "      <td>NaN</td>\n",
       "      <td>NaN</td>\n",
       "      <td>0</td>\n",
       "      <td>5</td>\n",
       "      <td>2007</td>\n",
       "      <td>WD</td>\n",
       "      <td>Normal</td>\n",
       "      <td>181500</td>\n",
       "    </tr>\n",
       "    <tr>\n",
       "      <th>2</th>\n",
       "      <td>3</td>\n",
       "      <td>60</td>\n",
       "      <td>RL</td>\n",
       "      <td>68.0</td>\n",
       "      <td>11250</td>\n",
       "      <td>Pave</td>\n",
       "      <td>NaN</td>\n",
       "      <td>IR1</td>\n",
       "      <td>Lvl</td>\n",
       "      <td>AllPub</td>\n",
       "      <td>...</td>\n",
       "      <td>0</td>\n",
       "      <td>NaN</td>\n",
       "      <td>NaN</td>\n",
       "      <td>NaN</td>\n",
       "      <td>0</td>\n",
       "      <td>9</td>\n",
       "      <td>2008</td>\n",
       "      <td>WD</td>\n",
       "      <td>Normal</td>\n",
       "      <td>223500</td>\n",
       "    </tr>\n",
       "    <tr>\n",
       "      <th>3</th>\n",
       "      <td>4</td>\n",
       "      <td>70</td>\n",
       "      <td>RL</td>\n",
       "      <td>60.0</td>\n",
       "      <td>9550</td>\n",
       "      <td>Pave</td>\n",
       "      <td>NaN</td>\n",
       "      <td>IR1</td>\n",
       "      <td>Lvl</td>\n",
       "      <td>AllPub</td>\n",
       "      <td>...</td>\n",
       "      <td>0</td>\n",
       "      <td>NaN</td>\n",
       "      <td>NaN</td>\n",
       "      <td>NaN</td>\n",
       "      <td>0</td>\n",
       "      <td>2</td>\n",
       "      <td>2006</td>\n",
       "      <td>WD</td>\n",
       "      <td>Abnorml</td>\n",
       "      <td>140000</td>\n",
       "    </tr>\n",
       "    <tr>\n",
       "      <th>4</th>\n",
       "      <td>5</td>\n",
       "      <td>60</td>\n",
       "      <td>RL</td>\n",
       "      <td>84.0</td>\n",
       "      <td>14260</td>\n",
       "      <td>Pave</td>\n",
       "      <td>NaN</td>\n",
       "      <td>IR1</td>\n",
       "      <td>Lvl</td>\n",
       "      <td>AllPub</td>\n",
       "      <td>...</td>\n",
       "      <td>0</td>\n",
       "      <td>NaN</td>\n",
       "      <td>NaN</td>\n",
       "      <td>NaN</td>\n",
       "      <td>0</td>\n",
       "      <td>12</td>\n",
       "      <td>2008</td>\n",
       "      <td>WD</td>\n",
       "      <td>Normal</td>\n",
       "      <td>250000</td>\n",
       "    </tr>\n",
       "  </tbody>\n",
       "</table>\n",
       "<p>5 rows × 81 columns</p>\n",
       "</div>"
      ],
      "text/plain": [
       "   Id  MSSubClass MSZoning  LotFrontage  LotArea Street Alley LotShape  \\\n",
       "0   1          60       RL         65.0     8450   Pave   NaN      Reg   \n",
       "1   2          20       RL         80.0     9600   Pave   NaN      Reg   \n",
       "2   3          60       RL         68.0    11250   Pave   NaN      IR1   \n",
       "3   4          70       RL         60.0     9550   Pave   NaN      IR1   \n",
       "4   5          60       RL         84.0    14260   Pave   NaN      IR1   \n",
       "\n",
       "  LandContour Utilities  ... PoolArea PoolQC Fence MiscFeature MiscVal MoSold  \\\n",
       "0         Lvl    AllPub  ...        0    NaN   NaN         NaN       0      2   \n",
       "1         Lvl    AllPub  ...        0    NaN   NaN         NaN       0      5   \n",
       "2         Lvl    AllPub  ...        0    NaN   NaN         NaN       0      9   \n",
       "3         Lvl    AllPub  ...        0    NaN   NaN         NaN       0      2   \n",
       "4         Lvl    AllPub  ...        0    NaN   NaN         NaN       0     12   \n",
       "\n",
       "  YrSold  SaleType  SaleCondition  SalePrice  \n",
       "0   2008        WD         Normal     208500  \n",
       "1   2007        WD         Normal     181500  \n",
       "2   2008        WD         Normal     223500  \n",
       "3   2006        WD        Abnorml     140000  \n",
       "4   2008        WD         Normal     250000  \n",
       "\n",
       "[5 rows x 81 columns]"
      ]
     },
     "execution_count": 112,
     "metadata": {},
     "output_type": "execute_result"
    }
   ],
   "source": [
    "import numpy as np\n",
    "import pandas as pd\n",
    "import seaborn as sb\n",
    "import matplotlib.pyplot as plt\n",
    "from sklearn.model_selection import train_test_split\n",
    "from sklearn.metrics import mean_squared_error\n",
    "from sklearn.linear_model import LinearRegression\n",
    "from sklearn.tree import DecisionTreeClassifier\n",
    "from sklearn.tree import plot_tree\n",
    "from sklearn.metrics import confusion_matrix\n",
    "sb.set()\n",
    "\n",
    "print(type(house_prices))\n",
    "print(house_prices.shape)\n",
    "house_prices = pd.read_csv(\"train.csv\")\n",
    "house_prices.head()"
   ]
  },
  {
   "cell_type": "markdown",
   "id": "904eb1f5",
   "metadata": {},
   "source": [
    "---\n",
    "\n",
    "# Problem 1: Predicting CentralAir using SalePrice\n",
    "\n",
    "In this problem, you will build a Classification Tree model to predict CentralAir using SalePrice and judge its accuracy.\n",
    "\n",
    "a) Create appropriate datasets for Train and Test in an 80:20 ratio and fit two Classification Tree models (of max depth 2 and max depth 4) on the Train set to predict CentralAir using SalePrice. Print the tree in each case.\n",
    "\n",
    "b) Print the confusion matrix on Train set and Test set for both the aforesaid models. Compute and print for both the trees the Classification Accuracy, True Positive Rate, False Positive Rate. Which of the two models is better?\n",
    "\n",
    "--- \n",
    "\n",
    "### Hints and Pointers:\n",
    "\n",
    "o If you take just the first 80% of the data as train and the next 20% as test, it may not be the best train test split.\n",
    "\n",
    "o If you want to change the max depth of the tree, check the input parameters needed to instantiate the model.\n",
    "\n",
    "o Think about the accuracy metrics for a tree carefully to determine which model is better and in which metrics.\n",
    "\n",
    "---\n",
    "## Crafting the Classification Tree Function:\n",
    "To save time and code space, define the function classificationtree() with all the required parameters."
   ]
  },
  {
   "cell_type": "code",
   "execution_count": 142,
   "id": "cb3f677d",
   "metadata": {},
   "outputs": [],
   "source": [
    "def classificationtree(X,y,df,depth):\n",
    "    \n",
    "    X = pd.DataFrame(df[X])\n",
    "    y = pd.DataFrame(df[y])\n",
    "    \n",
    "    X_train, X_test, y_train, y_test = train_test_split(X, y, test_size=0.2)\n",
    "    \n",
    "    dectree = DecisionTreeClassifier(max_depth=depth)\n",
    "\n",
    "    # Train the Decision Tree Classifier model\n",
    "    dectree.fit(X_train, y_train)\n",
    "    \n",
    "    f = plt.figure(figsize=(12,12))\n",
    "    plot_tree(dectree, filled=True,rounded=True,feature_names=[X],class_names=[\"Yes\",\"No\"])\n",
    "    \n",
    "    # Predict CentralAir corresponding to YearBuilt_train (X_train)\n",
    "    train_pred = dectree.predict(X_train)\n",
    "    print(\"Train Classification Accuracy \\t:\", dectree.score(X_train, y_train))\n",
    "    sb.heatmap(confusion_matrix(y_train, train_pred),annot=True,fmt=\".0f\",annot_kws={\"size\":18})\n",
    "\n",
    "    # Predict CentralAir corresponding to YearBuilt_test (X_test)\n",
    "    test_pred = dectree.predict(X_test)\n",
    "    print(\"Test Classification Accuracy \\t:\", dectree.score(X_test,y_test))\n",
    "    sb.heatmap(confusion_matrix(y_test,test_pred),annot=True,fmt=\".0f\",annot_kws={\"size\": 18}) "
   ]
  },
  {
   "cell_type": "markdown",
   "id": "1bcba72b",
   "metadata": {},
   "source": [
    "### Decision Tree (Max Depth = 2) - Predicting CentralAir using SalePrice\n",
    "\n",
    "We will start by setting up a simple Classification Problem. Scikit-Learn (`sklearn`) will be our de-facto Machine Learning library in Python. Import the `DecisionTreeClassifier` model from `sklearn.tree`.\n",
    "\n",
    "Train the Decision Tree Classifier model `dectree` using the Train Set.   \n",
    "Use `X_train` as *Predictor* and `y_train` as *Response*.\n",
    "\n",
    "Response Variable: **CentralAir** (y)    \n",
    "Predictor Feature: **SalePrice** (X)\n",
    "\n",
    "Extract the variables and the associated data as Pandas `DataFrame`."
   ]
  },
  {
   "cell_type": "code",
   "execution_count": 143,
   "id": "56ff55c3",
   "metadata": {},
   "outputs": [
    {
     "name": "stdout",
     "output_type": "stream",
     "text": [
      "Train Classification Accuracy \t: 0.9426369863013698\n",
      "Test Classification Accuracy \t: 0.9417808219178082\n"
     ]
    },
    {
     "data": {
      "text/plain": [
       "<seaborn.axisgrid.FacetGrid at 0x7ff126cadf10>"
      ]
     },
     "execution_count": 143,
     "metadata": {},
     "output_type": "execute_result"
    }
   ],
   "source": [
    "classificationtree(X='SalePrice',y='CentralAir', df=house_prices, depth=2)\n",
    "\n",
    "# Count Plot for CentralAir Train\n",
    "sb.catplot(y=\"CentralAir\", data=y_train, kind=\"count\")"
   ]
  },
  {
   "cell_type": "markdown",
   "id": "6dd79674",
   "metadata": {},
   "source": [
    "### Decision Tree (Max Depth = 4) - Predicting CentralAir using SalePrice\n",
    "Using depth 4 instead of 2."
   ]
  },
  {
   "cell_type": "code",
   "execution_count": 144,
   "id": "a670596f",
   "metadata": {
    "scrolled": false
   },
   "outputs": [
    {
     "name": "stdout",
     "output_type": "stream",
     "text": [
      "Train Classification Accuracy \t: 0.9503424657534246\n",
      "Test Classification Accuracy \t: 0.9075342465753424\n"
     ]
    }
   ],
   "source": [
    "classificationtree(X='SalePrice',y='CentralAir', df=house_prices, depth=4)"
   ]
  },
  {
   "cell_type": "markdown",
   "id": "c4260d8c",
   "metadata": {},
   "source": [
    "The Model for the tree with depth=2 is better as it has a higher classification accuracy for the test set. As for the confusion matrix: "
   ]
  },
  {
   "cell_type": "markdown",
   "id": "b22b51cf",
   "metadata": {},
   "source": [
    "# Problem 2: Predicting CentralAir using Other Variables\n",
    "\n",
    "Following the steps from the previous problem, build **2 new uni-variate Classification Tree models (of max depth 4)** to predict **CentralAir** using the variables **OverallQual** and **YearBuilt**. Justify which of the variables is the best predictor.\n",
    "\n",
    "#### Hints and Pointers:\n",
    "\n",
    "o Same as Problem 1, just on other variables. You can compare models using the metrics you are printing anyway.     \n",
    "o Optional: You may think of writing a simple Python function to do classification on variable(s) in a given dataset.\n",
    "\n",
    "---\n",
    "\n",
    "## Tackling CentralAir with OverallQual first:\n",
    "\n",
    "Response Variable: **CentralAir** (y)    \n",
    "Predictor Feature: **OverallQual** (X)   \n",
    "\n",
    "Extract the variables and the associated data as Pandas `DataFrame`."
   ]
  },
  {
   "cell_type": "markdown",
   "id": "17aaca41",
   "metadata": {},
   "source": [
    "### Goodness of fit of the Model for Tree Depth=4 (CentralAir & OverallQual)"
   ]
  },
  {
   "cell_type": "code",
   "execution_count": 120,
   "id": "4adea265",
   "metadata": {},
   "outputs": [
    {
     "name": "stdout",
     "output_type": "stream",
     "text": [
      "Train Classification Accuracy \t: 0.9409246575342466\n",
      "Test Classification Accuracy \t: 0.934931506849315\n"
     ]
    }
   ],
   "source": [
    "classificationtree(X='OverallQual',y='CentralAir', df=house_prices, depth=4)"
   ]
  },
  {
   "cell_type": "markdown",
   "id": "628e9ecb",
   "metadata": {},
   "source": [
    "## Tackling CentralAir with YearBuilt:\n",
    "\n",
    "Response Variable: **CentralAir** (y)    \n",
    "Predictor Feature: **YearBuilt** (X)   \n",
    "\n",
    "Extract the variables and the associated data as Pandas `DataFrame`."
   ]
  },
  {
   "cell_type": "code",
   "execution_count": 119,
   "id": "8b4c05af",
   "metadata": {
    "scrolled": true
   },
   "outputs": [
    {
     "name": "stdout",
     "output_type": "stream",
     "text": [
      "Train Classification Accuracy \t: 0.9357876712328768\n",
      "Test Classification Accuracy \t: 0.9383561643835616\n"
     ]
    }
   ],
   "source": [
    "classificationtree(X='YearBuilt',y='CentralAir', df=house_prices, depth=4)"
   ]
  },
  {
   "cell_type": "markdown",
   "id": "89981e5e",
   "metadata": {},
   "source": [
    "Therefore, comparing the 2 variables, as YearBuilt has a higher train and test classification accuracy, it is the better predictor."
   ]
  },
  {
   "cell_type": "markdown",
   "id": "d703f331",
   "metadata": {},
   "source": [
    "# Problem 3: Understanding the Misclassified Samples\n",
    "In this problem, you will consider finer details of the tree model and try to isolate the misclassified samples for a model.\n",
    "\n",
    "(a) Print the Classification Tree of max depth 4 that you fit in Problem 1(a). Note that each leaf node of your tree represents a specific partition of your training data, based on certain conditions given by the splits in the tree. Find out which leaf node of this tree has the highest number of False Positives (FP) in the training dataset and print all samples in the Train set (rows from the dataframe) that end up in this leaf node (partition) during fit.\n",
    "\n",
    "(b) Print ONLY the False Positive cases (rows from the dataframe) from the samples (rows) extracted in part (a).\n",
    "\n",
    "### Hints and Pointers:\n",
    "o In Part (a), you may print the model in Problem 1(a), or fit the max depth 4 classification tree model once again.\n",
    "\n",
    "o You may simply “observe” which leaf node has the maximum number of False Positives; no need to code for it.\n",
    "\n",
    "o Think about how data points (samples) end up in a leaf node based on tree splits; it will help you isolate samples.\n",
    "\n",
    "o Part (b) is a simple continuation of part (a), where you need to “filter” out the False Positives from the samples."
   ]
  },
  {
   "cell_type": "code",
   "execution_count": 145,
   "id": "6d448362",
   "metadata": {},
   "outputs": [
    {
     "name": "stdout",
     "output_type": "stream",
     "text": [
      "Train Classification Accuracy \t: 0.949486301369863\n",
      "Test Classification Accuracy \t: 0.928082191780822\n"
     ]
    }
   ],
   "source": [
    "classificationtree(X='SalePrice',y='CentralAir', df=house_prices, depth=4)"
   ]
  }
 ],
 "metadata": {
  "kernelspec": {
   "display_name": "Python 3 (ipykernel)",
   "language": "python",
   "name": "python3"
  },
  "language_info": {
   "codemirror_mode": {
    "name": "ipython",
    "version": 3
   },
   "file_extension": ".py",
   "mimetype": "text/x-python",
   "name": "python",
   "nbconvert_exporter": "python",
   "pygments_lexer": "ipython3",
   "version": "3.9.13"
  }
 },
 "nbformat": 4,
 "nbformat_minor": 5
}
